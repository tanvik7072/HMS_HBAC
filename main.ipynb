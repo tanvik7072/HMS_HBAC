{
  "metadata": {
    "kernelspec": {
      "language": "python",
      "display_name": "Python 3",
      "name": "python3"
    },
    "language_info": {
      "name": "python",
      "version": "3.10.13",
      "mimetype": "text/x-python",
      "codemirror_mode": {
        "name": "ipython",
        "version": 3
      },
      "pygments_lexer": "ipython3",
      "nbconvert_exporter": "python",
      "file_extension": ".py"
    },
    "kaggle": {
      "accelerator": "nvidiaTeslaT4",
      "dataSources": [
        {
          "sourceId": 59093,
          "databundleVersionId": 7469972,
          "sourceType": "competition"
        }
      ],
      "dockerImageVersionId": 30665,
      "isInternetEnabled": true,
      "language": "python",
      "sourceType": "notebook",
      "isGpuEnabled": true
    },
    "colab": {
      "provenance": []
    }
  },
  "nbformat_minor": 0,
  "nbformat": 4,
  "cells": [
    {
      "cell_type": "code",
      "source": [
        "#Importing relevant libraries\n",
        "import pandas as pd\n",
        "import numpy as np\n",
        "from scipy import signal\n",
        "from scipy.signal import butter, filtfilt, iirnotch\n",
        "from sklearn.ensemble import RandomForestClassifier\n",
        "from sklearn.model_selection import train_test_split\n",
        "import matplotlib.pyplot as plt\n",
        "from scipy import stats\n",
        "import sklearn\n",
        "import os\n",
        "import mne\n",
        "from scipy.fft import fft, ifft"
      ],
      "metadata": {
        "_uuid": "8f2839f25d086af736a60e9eeb907d3b93b6e0e5",
        "_cell_guid": "b1076dfc-b9ad-4769-8c92-a6c4dae69d19",
        "execution": {
          "iopub.status.busy": "2024-03-23T17:13:00.786171Z",
          "iopub.execute_input": "2024-03-23T17:13:00.786995Z",
          "iopub.status.idle": "2024-03-23T17:13:00.793709Z",
          "shell.execute_reply.started": "2024-03-23T17:13:00.786953Z",
          "shell.execute_reply": "2024-03-23T17:13:00.792648Z"
        },
        "trusted": true,
        "id": "43KYGeTQ63r0"
      },
      "execution_count": null,
      "outputs": []
    },
    {
      "cell_type": "markdown",
      "source": [
        "## 1. Read .csv file📁"
      ],
      "metadata": {
        "id": "deYPZyL063r3"
      }
    },
    {
      "cell_type": "code",
      "source": [
        "csv = '/kaggle/input/hms-harmful-brain-activity-classification/train.csv'\n",
        "df = pd.read_csv(csv)\n",
        "df.head()"
      ],
      "metadata": {
        "execution": {
          "iopub.status.busy": "2024-03-23T17:13:00.808022Z",
          "iopub.execute_input": "2024-03-23T17:13:00.808730Z",
          "iopub.status.idle": "2024-03-23T17:13:01.011865Z",
          "shell.execute_reply.started": "2024-03-23T17:13:00.808694Z",
          "shell.execute_reply": "2024-03-23T17:13:01.010616Z"
        },
        "trusted": true,
        "id": "nmkkjO1I63r5",
        "outputId": "e4baa2a0-91bb-4b75-f892-dd864ae0e5c7"
      },
      "execution_count": null,
      "outputs": [
        {
          "execution_count": 11,
          "output_type": "execute_result",
          "data": {
            "text/plain": "       eeg_id  eeg_sub_id  eeg_label_offset_seconds  spectrogram_id  \\\n0  1628180742           0                       0.0          353733   \n1  1628180742           1                       6.0          353733   \n2  1628180742           2                       8.0          353733   \n3  1628180742           3                      18.0          353733   \n4  1628180742           4                      24.0          353733   \n\n   spectrogram_sub_id  spectrogram_label_offset_seconds    label_id  \\\n0                   0                               0.0   127492639   \n1                   1                               6.0  3887563113   \n2                   2                               8.0  1142670488   \n3                   3                              18.0  2718991173   \n4                   4                              24.0  3080632009   \n\n   patient_id expert_consensus  seizure_vote  lpd_vote  gpd_vote  lrda_vote  \\\n0       42516          Seizure             3         0         0          0   \n1       42516          Seizure             3         0         0          0   \n2       42516          Seizure             3         0         0          0   \n3       42516          Seizure             3         0         0          0   \n4       42516          Seizure             3         0         0          0   \n\n   grda_vote  other_vote  \n0          0           0  \n1          0           0  \n2          0           0  \n3          0           0  \n4          0           0  ",
            "text/html": "<div>\n<style scoped>\n    .dataframe tbody tr th:only-of-type {\n        vertical-align: middle;\n    }\n\n    .dataframe tbody tr th {\n        vertical-align: top;\n    }\n\n    .dataframe thead th {\n        text-align: right;\n    }\n</style>\n<table border=\"1\" class=\"dataframe\">\n  <thead>\n    <tr style=\"text-align: right;\">\n      <th></th>\n      <th>eeg_id</th>\n      <th>eeg_sub_id</th>\n      <th>eeg_label_offset_seconds</th>\n      <th>spectrogram_id</th>\n      <th>spectrogram_sub_id</th>\n      <th>spectrogram_label_offset_seconds</th>\n      <th>label_id</th>\n      <th>patient_id</th>\n      <th>expert_consensus</th>\n      <th>seizure_vote</th>\n      <th>lpd_vote</th>\n      <th>gpd_vote</th>\n      <th>lrda_vote</th>\n      <th>grda_vote</th>\n      <th>other_vote</th>\n    </tr>\n  </thead>\n  <tbody>\n    <tr>\n      <th>0</th>\n      <td>1628180742</td>\n      <td>0</td>\n      <td>0.0</td>\n      <td>353733</td>\n      <td>0</td>\n      <td>0.0</td>\n      <td>127492639</td>\n      <td>42516</td>\n      <td>Seizure</td>\n      <td>3</td>\n      <td>0</td>\n      <td>0</td>\n      <td>0</td>\n      <td>0</td>\n      <td>0</td>\n    </tr>\n    <tr>\n      <th>1</th>\n      <td>1628180742</td>\n      <td>1</td>\n      <td>6.0</td>\n      <td>353733</td>\n      <td>1</td>\n      <td>6.0</td>\n      <td>3887563113</td>\n      <td>42516</td>\n      <td>Seizure</td>\n      <td>3</td>\n      <td>0</td>\n      <td>0</td>\n      <td>0</td>\n      <td>0</td>\n      <td>0</td>\n    </tr>\n    <tr>\n      <th>2</th>\n      <td>1628180742</td>\n      <td>2</td>\n      <td>8.0</td>\n      <td>353733</td>\n      <td>2</td>\n      <td>8.0</td>\n      <td>1142670488</td>\n      <td>42516</td>\n      <td>Seizure</td>\n      <td>3</td>\n      <td>0</td>\n      <td>0</td>\n      <td>0</td>\n      <td>0</td>\n      <td>0</td>\n    </tr>\n    <tr>\n      <th>3</th>\n      <td>1628180742</td>\n      <td>3</td>\n      <td>18.0</td>\n      <td>353733</td>\n      <td>3</td>\n      <td>18.0</td>\n      <td>2718991173</td>\n      <td>42516</td>\n      <td>Seizure</td>\n      <td>3</td>\n      <td>0</td>\n      <td>0</td>\n      <td>0</td>\n      <td>0</td>\n      <td>0</td>\n    </tr>\n    <tr>\n      <th>4</th>\n      <td>1628180742</td>\n      <td>4</td>\n      <td>24.0</td>\n      <td>353733</td>\n      <td>4</td>\n      <td>24.0</td>\n      <td>3080632009</td>\n      <td>42516</td>\n      <td>Seizure</td>\n      <td>3</td>\n      <td>0</td>\n      <td>0</td>\n      <td>0</td>\n      <td>0</td>\n      <td>0</td>\n    </tr>\n  </tbody>\n</table>\n</div>"
          },
          "metadata": {}
        }
      ]
    },
    {
      "cell_type": "markdown",
      "source": [
        "## 2. Signal Processing 📶"
      ],
      "metadata": {
        "id": "cbL-fIjS63r7"
      }
    },
    {
      "cell_type": "code",
      "source": [
        "def butterfilt(data, lowcut, highcut, fs, order=4, padlen = None):\n",
        "    nyquist = 0.5 * fs\n",
        "    low = lowcut / nyquist\n",
        "    high = highcut / nyquist\n",
        "    b, a = butter(order, [low, high], btype='band')\n",
        "    bandpass_filtered_data = filtfilt(b, a, data, axis=0)\n",
        "    return bandpass_filtered_data\n",
        "\n",
        "def notchfilt(data, fs, notch_freq=50, Q=10):\n",
        "    b, a = iirnotch(notch_freq, Q, fs=fs)\n",
        "    notched_data = filtfilt(b, a, data, axis=0)\n",
        "    return notched_data"
      ],
      "metadata": {
        "execution": {
          "iopub.status.busy": "2024-03-23T17:13:01.014061Z",
          "iopub.execute_input": "2024-03-23T17:13:01.014391Z",
          "iopub.status.idle": "2024-03-23T17:13:01.024161Z",
          "shell.execute_reply.started": "2024-03-23T17:13:01.014363Z",
          "shell.execute_reply": "2024-03-23T17:13:01.022888Z"
        },
        "trusted": true,
        "id": "R4YEp1vo63r8"
      },
      "execution_count": null,
      "outputs": []
    },
    {
      "cell_type": "code",
      "source": [
        "def apply_filters(signal_data):\n",
        "    # Apply notch filter\n",
        "    notched_data = notchfilt(signal_data, fs=200)\n",
        "    # Apply bandpass filter\n",
        "    filtered_data = butterfilt(notched_data, lowcut=0.1, highcut=50, fs=200, padlen=None)\n",
        "    return filtered_data"
      ],
      "metadata": {
        "execution": {
          "iopub.status.busy": "2024-03-23T17:13:01.025714Z",
          "iopub.execute_input": "2024-03-23T17:13:01.026139Z",
          "iopub.status.idle": "2024-03-23T17:13:01.036253Z",
          "shell.execute_reply.started": "2024-03-23T17:13:01.026101Z",
          "shell.execute_reply": "2024-03-23T17:13:01.035135Z"
        },
        "trusted": true,
        "id": "7IOjiRR363r9"
      },
      "execution_count": null,
      "outputs": []
    },
    {
      "cell_type": "markdown",
      "source": [
        "## 3. Feature Extraction ⚗️\n",
        "Statistics used as a proxy for the features of the signal:\n",
        "1. Mean: Central tendency of the signal, this may be higher in seizures and GPD due to higher overall activity, whereas thet might be slightly lower in GRDA and LRDA due to the presence of slow delta activiy. Might also reflect asymmetry in LPD and LRDA.\n",
        "2. Standard deviation: Variability of the signal around the mean: this may be higher in seizures to due drastic changes in amplitude, as well as in LRDA, LPD and GPD.\n",
        "3. Peak-to-peak amplitude: difference between the highest and lowest points in the data. Likely to be higher in seizures due to more drastic changes in amplitude.\n",
        "4. Variation: Measure of spread, higher in seizures due to more drastic and frequent changes, as well as in GPD, LRDA and LPD.\n",
        "5. The minimum and maximum values of the signal: assessment of amplitude.\n",
        "6. Square root of the signal\n",
        "7. Skew: Asymmetry of the distribution, positive in seizures due to asymmetry compared to baseline activity, but also seen in LRDA and LPD as these are lateralised.\n",
        "8. Kurtosis: Peakedness/flatness of the signal, may be higher in seizure due to more peaks."
      ],
      "metadata": {
        "id": "fwpYfQVH63r-"
      }
    },
    {
      "cell_type": "code",
      "source": [
        "def extract_features(signal_data):\n",
        "    features = []\n",
        "\n",
        "    # Define feature extraction functions\n",
        "    def mean(x):\n",
        "        return np.mean(x, axis=0)\n",
        "\n",
        "    def std(x):\n",
        "        return np.std(x, axis=0)\n",
        "\n",
        "    def ptp(x):\n",
        "        return np.ptp(x, axis=0)\n",
        "\n",
        "    def var(x):\n",
        "        return np.var(x, axis=0)\n",
        "\n",
        "    def minim(x):\n",
        "        return np.min(x, axis=0)\n",
        "\n",
        "    def maxim(x):\n",
        "        return np.max(x, axis=0)\n",
        "\n",
        "    def sqrt(x):\n",
        "        return np.sqrt(np.mean(x ** 2, axis=0))\n",
        "\n",
        "    def abs_diff_sigma(x):\n",
        "        return np.sum(np.abs(np.diff(x, axis=0)), axis=0)\n",
        "\n",
        "    def skew(x):\n",
        "        return stats.skew(x, axis=0)\n",
        "\n",
        "    def kurtosis(x):\n",
        "        return stats.kurtosis(x, axis=0)\n",
        "\n",
        "    # Extract features from signal data\n",
        "    signal_features = [\n",
        "        mean(signal_data),\n",
        "        std(signal_data),\n",
        "        ptp(signal_data),\n",
        "        var(signal_data),\n",
        "        minim(signal_data),\n",
        "        maxim(signal_data),\n",
        "        sqrt(signal_data),\n",
        "        abs_diff_sigma(signal_data),\n",
        "        skew(signal_data),\n",
        "        kurtosis(signal_data)\n",
        "    ]\n",
        "\n",
        "    return signal_features"
      ],
      "metadata": {
        "execution": {
          "iopub.status.busy": "2024-03-23T17:13:01.039178Z",
          "iopub.execute_input": "2024-03-23T17:13:01.039470Z",
          "iopub.status.idle": "2024-03-23T17:13:01.052652Z",
          "shell.execute_reply.started": "2024-03-23T17:13:01.039445Z",
          "shell.execute_reply": "2024-03-23T17:13:01.051463Z"
        },
        "trusted": true,
        "id": "SXcOr9yZ63r_"
      },
      "execution_count": null,
      "outputs": []
    },
    {
      "cell_type": "markdown",
      "source": [
        "## 4. Preparing Data and Labels 👩‍🍳"
      ],
      "metadata": {
        "id": "QaGuPrj063sB"
      }
    },
    {
      "cell_type": "code",
      "source": [
        "# Step 4: Prepare Data and Labels\n",
        "filename_to_label = dict(zip(df['eeg_id'], df['expert_consensus']))\n",
        "\n",
        "parquet_folder = '/kaggle/input/hms-harmful-brain-activity-classification/train_eegs'\n",
        "parquet_files = os.listdir(parquet_folder)\n",
        "\n",
        "features = []\n",
        "labels = []\n",
        "\n",
        "total_files = len(parquet_files)\n",
        "processed_files = 0\n",
        "\n",
        "for _, row in df.iterrows():\n",
        "    parquet_file = row['eeg_id']\n",
        "    # Read Parquet data\n",
        "    parquet_data = pd.read_parquet(os.path.join(parquet_folder, f\"{parquet_file}.parquet\"))\n",
        "\n",
        "    # Convert offset seconds to integer\n",
        "    offset_seconds = int(row['eeg_label_offset_seconds'])\n",
        "    signal_data = parquet_data[offset_seconds:offset_seconds+50]  # Use the integer value for slicing\n",
        "    filtered_signal_data = apply_filters(signal_data)\n",
        "    signal_features = extract_features(signal_data)\n",
        "    features.append(signal_features)\n",
        "    labels.append(filename_to_label[parquet_file])\n",
        "\n",
        "    processed_files += 1\n",
        "    #print(f\"Processed {parquet_file} | Progress: {processed_files}/{total_files} ({processed_files/total_files*100:.2f}%)\")\n",
        "\n",
        "X = np.array(features)\n",
        "y = np.array(labels)\n",
        "\n",
        "print('Processing Complete')"
      ],
      "metadata": {
        "trusted": true,
        "id": "Z55_aIyP63sC"
      },
      "execution_count": null,
      "outputs": []
    },
    {
      "cell_type": "markdown",
      "source": [
        "# 5. Train Classifier 📈"
      ],
      "metadata": {
        "id": "m9fYJz_O63sE"
      }
    },
    {
      "cell_type": "code",
      "source": [
        "X_train, X_test, y_train, y_test = train_test_split(X, y, test_size=0.2, random_state=42)\n",
        "\n",
        "X_train = X_train.reshape(len(X_train), -1)\n",
        "y_train = y_train.reshape(len(y_train), -1)\n",
        "X_test = X_test.reshape(len(X_test), -1)\n",
        "y_test = y_test.reshape(len(y_test), -1)\n",
        "\n",
        "rf_classifier = sklearn.ensemble.HistGradientBoostingClassifier(max_iter=100, random_state=42)\n",
        "rf_classifier.fit(X_train, y_train)\n"
      ],
      "metadata": {
        "execution": {
          "iopub.status.busy": "2024-03-23T18:11:13.532235Z",
          "iopub.execute_input": "2024-03-23T18:11:13.532612Z",
          "iopub.status.idle": "2024-03-23T18:11:48.170246Z",
          "shell.execute_reply.started": "2024-03-23T18:11:13.532579Z",
          "shell.execute_reply": "2024-03-23T18:11:48.169435Z"
        },
        "trusted": true,
        "id": "KyHeodcg63sE",
        "outputId": "c99c3c2b-9cc4-40a2-dfc3-e93bb830d0ea"
      },
      "execution_count": null,
      "outputs": [
        {
          "name": "stderr",
          "text": "/opt/conda/lib/python3.10/site-packages/sklearn/utils/validation.py:1143: DataConversionWarning: A column-vector y was passed when a 1d array was expected. Please change the shape of y to (n_samples, ), for example using ravel().\n  y = column_or_1d(y, warn=True)\n",
          "output_type": "stream"
        },
        {
          "execution_count": 16,
          "output_type": "execute_result",
          "data": {
            "text/plain": "HistGradientBoostingClassifier(random_state=42)",
            "text/html": "<style>#sk-container-id-1 {color: black;background-color: white;}#sk-container-id-1 pre{padding: 0;}#sk-container-id-1 div.sk-toggleable {background-color: white;}#sk-container-id-1 label.sk-toggleable__label {cursor: pointer;display: block;width: 100%;margin-bottom: 0;padding: 0.3em;box-sizing: border-box;text-align: center;}#sk-container-id-1 label.sk-toggleable__label-arrow:before {content: \"▸\";float: left;margin-right: 0.25em;color: #696969;}#sk-container-id-1 label.sk-toggleable__label-arrow:hover:before {color: black;}#sk-container-id-1 div.sk-estimator:hover label.sk-toggleable__label-arrow:before {color: black;}#sk-container-id-1 div.sk-toggleable__content {max-height: 0;max-width: 0;overflow: hidden;text-align: left;background-color: #f0f8ff;}#sk-container-id-1 div.sk-toggleable__content pre {margin: 0.2em;color: black;border-radius: 0.25em;background-color: #f0f8ff;}#sk-container-id-1 input.sk-toggleable__control:checked~div.sk-toggleable__content {max-height: 200px;max-width: 100%;overflow: auto;}#sk-container-id-1 input.sk-toggleable__control:checked~label.sk-toggleable__label-arrow:before {content: \"▾\";}#sk-container-id-1 div.sk-estimator input.sk-toggleable__control:checked~label.sk-toggleable__label {background-color: #d4ebff;}#sk-container-id-1 div.sk-label input.sk-toggleable__control:checked~label.sk-toggleable__label {background-color: #d4ebff;}#sk-container-id-1 input.sk-hidden--visually {border: 0;clip: rect(1px 1px 1px 1px);clip: rect(1px, 1px, 1px, 1px);height: 1px;margin: -1px;overflow: hidden;padding: 0;position: absolute;width: 1px;}#sk-container-id-1 div.sk-estimator {font-family: monospace;background-color: #f0f8ff;border: 1px dotted black;border-radius: 0.25em;box-sizing: border-box;margin-bottom: 0.5em;}#sk-container-id-1 div.sk-estimator:hover {background-color: #d4ebff;}#sk-container-id-1 div.sk-parallel-item::after {content: \"\";width: 100%;border-bottom: 1px solid gray;flex-grow: 1;}#sk-container-id-1 div.sk-label:hover label.sk-toggleable__label {background-color: #d4ebff;}#sk-container-id-1 div.sk-serial::before {content: \"\";position: absolute;border-left: 1px solid gray;box-sizing: border-box;top: 0;bottom: 0;left: 50%;z-index: 0;}#sk-container-id-1 div.sk-serial {display: flex;flex-direction: column;align-items: center;background-color: white;padding-right: 0.2em;padding-left: 0.2em;position: relative;}#sk-container-id-1 div.sk-item {position: relative;z-index: 1;}#sk-container-id-1 div.sk-parallel {display: flex;align-items: stretch;justify-content: center;background-color: white;position: relative;}#sk-container-id-1 div.sk-item::before, #sk-container-id-1 div.sk-parallel-item::before {content: \"\";position: absolute;border-left: 1px solid gray;box-sizing: border-box;top: 0;bottom: 0;left: 50%;z-index: -1;}#sk-container-id-1 div.sk-parallel-item {display: flex;flex-direction: column;z-index: 1;position: relative;background-color: white;}#sk-container-id-1 div.sk-parallel-item:first-child::after {align-self: flex-end;width: 50%;}#sk-container-id-1 div.sk-parallel-item:last-child::after {align-self: flex-start;width: 50%;}#sk-container-id-1 div.sk-parallel-item:only-child::after {width: 0;}#sk-container-id-1 div.sk-dashed-wrapped {border: 1px dashed gray;margin: 0 0.4em 0.5em 0.4em;box-sizing: border-box;padding-bottom: 0.4em;background-color: white;}#sk-container-id-1 div.sk-label label {font-family: monospace;font-weight: bold;display: inline-block;line-height: 1.2em;}#sk-container-id-1 div.sk-label-container {text-align: center;}#sk-container-id-1 div.sk-container {/* jupyter's `normalize.less` sets `[hidden] { display: none; }` but bootstrap.min.css set `[hidden] { display: none !important; }` so we also need the `!important` here to be able to override the default hidden behavior on the sphinx rendered scikit-learn.org. See: https://github.com/scikit-learn/scikit-learn/issues/21755 */display: inline-block !important;position: relative;}#sk-container-id-1 div.sk-text-repr-fallback {display: none;}</style><div id=\"sk-container-id-1\" class=\"sk-top-container\"><div class=\"sk-text-repr-fallback\"><pre>HistGradientBoostingClassifier(random_state=42)</pre><b>In a Jupyter environment, please rerun this cell to show the HTML representation or trust the notebook. <br />On GitHub, the HTML representation is unable to render, please try loading this page with nbviewer.org.</b></div><div class=\"sk-container\" hidden><div class=\"sk-item\"><div class=\"sk-estimator sk-toggleable\"><input class=\"sk-toggleable__control sk-hidden--visually\" id=\"sk-estimator-id-1\" type=\"checkbox\" checked><label for=\"sk-estimator-id-1\" class=\"sk-toggleable__label sk-toggleable__label-arrow\">HistGradientBoostingClassifier</label><div class=\"sk-toggleable__content\"><pre>HistGradientBoostingClassifier(random_state=42)</pre></div></div></div></div></div>"
          },
          "metadata": {}
        }
      ]
    },
    {
      "cell_type": "code",
      "source": [
        "#Model Accuracy (Validation)\n",
        "accuracy = rf_classifier.score(X_test, y_test)\n",
        "print(\"Accuracy:\", accuracy)"
      ],
      "metadata": {
        "execution": {
          "iopub.status.busy": "2024-03-23T18:11:48.173582Z",
          "iopub.execute_input": "2024-03-23T18:11:48.173923Z",
          "iopub.status.idle": "2024-03-23T18:11:48.852952Z",
          "shell.execute_reply.started": "2024-03-23T18:11:48.173898Z",
          "shell.execute_reply": "2024-03-23T18:11:48.852199Z"
        },
        "trusted": true,
        "id": "oyOk4YhE63sF",
        "outputId": "417c4a76-9a7d-41c2-faa6-076344987f57"
      },
      "execution_count": null,
      "outputs": [
        {
          "name": "stdout",
          "text": "Accuracy: 0.8146535580524344\n",
          "output_type": "stream"
        }
      ]
    },
    {
      "cell_type": "markdown",
      "source": [
        "## 6. Submission  📋"
      ],
      "metadata": {
        "id": "1H34sW0G63sG"
      }
    },
    {
      "cell_type": "code",
      "source": [
        "parquet_folder_test = '/kaggle/input/hms-harmful-brain-activity-classification/test_eegs'\n",
        "parquet_files_test = os.listdir(parquet_folder_test)\n",
        "\n",
        "\n",
        "test_features = []\n",
        "test_csv = '/kaggle/input/hms-harmful-brain-activity-classification/test.csv'\n",
        "df_test = pd.read_csv(test_csv)\n",
        "df_test.head()\n",
        "\n",
        "for _, row in df_test.iterrows():\n",
        "    parquet_file_test = row['eeg_id']\n",
        "    # Read Parquet data\n",
        "    parquet_data_test = pd.read_parquet(os.path.join(parquet_folder_test, f\"{parquet_file_test}.parquet\"))\n",
        "    filtered_signal_test = apply_filters(parquet_data_test)\n",
        "    signal_features_test = extract_features(filtered_signal_test)\n",
        "    test_features.append(signal_features_test)\n",
        "\n",
        "X_submission = np.array(test_features)\n",
        "X_submission = X_submission.reshape(len(X_submission), -1)\n",
        "\n",
        "print('Processing Complete')\n",
        "\n",
        "\n",
        "# Step 2: Perform prediction\n",
        "prediction_probabilities = rf_classifier.predict_proba(X_submission)[0]  # Predict probabilities\n",
        "\n",
        "# Step 3: Initialize a DataFrame to store predictions\n",
        "predictions_df = pd.DataFrame(columns=['eeg_id', 'seizure_vote', 'lpd_vote', 'gpd_vote', 'lrda_vote', 'grda_vote', 'other_vote'])\n",
        "\n",
        "# Step 4: Create a row for the new image prediction\n",
        "row = pd.DataFrame({\n",
        "    'eeg_id': ['new_image'],  # Assuming 'new_image' as the eeg_id for the new image\n",
        "    'seizure_vote': [prediction_probabilities[0]],\n",
        "    'lpd_vote': [prediction_probabilities[1]],\n",
        "    'gpd_vote': [prediction_probabilities[2]],\n",
        "    'lrda_vote': [prediction_probabilities[3]],\n",
        "    'grda_vote': [prediction_probabilities[4]],\n",
        "    'other_vote': [prediction_probabilities[5]]\n",
        "})\n",
        "\n",
        "# Step 5: Concatenate the new row with the predictions DataFrame\n",
        "predictions_df = pd.concat([predictions_df, row], ignore_index=True)\n",
        "\n",
        "# Step 6: Save predictions to a CSV file\n",
        "predictions_df.to_csv('submission.csv', index=False)"
      ],
      "metadata": {
        "execution": {
          "iopub.status.busy": "2024-03-23T18:11:48.854730Z",
          "iopub.execute_input": "2024-03-23T18:11:48.855098Z",
          "iopub.status.idle": "2024-03-23T18:11:49.083457Z",
          "shell.execute_reply.started": "2024-03-23T18:11:48.855063Z",
          "shell.execute_reply": "2024-03-23T18:11:49.082785Z"
        },
        "trusted": true,
        "id": "C4EcGmqq63sG",
        "outputId": "716119a5-38c1-4528-ecb3-6351c7ffa811"
      },
      "execution_count": null,
      "outputs": [
        {
          "name": "stdout",
          "text": "Processing Complete\n",
          "output_type": "stream"
        },
        {
          "name": "stderr",
          "text": "/tmp/ipykernel_34/2801524955.py:42: FutureWarning: The behavior of DataFrame concatenation with empty or all-NA entries is deprecated. In a future version, this will no longer exclude empty or all-NA columns when determining the result dtypes. To retain the old behavior, exclude the relevant entries before the concat operation.\n  predictions_df = pd.concat([predictions_df, row], ignore_index=True)\n",
          "output_type": "stream"
        }
      ]
    },
    {
      "cell_type": "code",
      "source": [
        "from IPython.display import FileLink\n",
        "\n",
        "# Create a download link for the file\n",
        "FileLink('submission.csv')"
      ],
      "metadata": {
        "execution": {
          "iopub.status.busy": "2024-03-23T18:11:49.086494Z",
          "iopub.execute_input": "2024-03-23T18:11:49.088512Z",
          "iopub.status.idle": "2024-03-23T18:11:49.095530Z",
          "shell.execute_reply.started": "2024-03-23T18:11:49.088475Z",
          "shell.execute_reply": "2024-03-23T18:11:49.094776Z"
        },
        "trusted": true,
        "id": "w8Id8DLT63sH",
        "outputId": "73937447-0abe-4f46-bf56-5c5ddbb0cef0"
      },
      "execution_count": null,
      "outputs": [
        {
          "execution_count": 19,
          "output_type": "execute_result",
          "data": {
            "text/plain": "/kaggle/working/submission.csv",
            "text/html": "<a href='submission.csv' target='_blank'>submission.csv</a><br>"
          },
          "metadata": {}
        }
      ]
    }
  ]
}
